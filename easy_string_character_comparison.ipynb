{
  "nbformat": 4,
  "nbformat_minor": 0,
  "metadata": {
    "colab": {
      "provenance": [],
      "authorship_tag": "ABX9TyM1Eh35m55OtkmG2vy5AeNG",
      "include_colab_link": true
    },
    "kernelspec": {
      "name": "python3",
      "display_name": "Python 3"
    },
    "language_info": {
      "name": "python"
    }
  },
  "cells": [
    {
      "cell_type": "markdown",
      "metadata": {
        "id": "view-in-github",
        "colab_type": "text"
      },
      "source": [
        "<a href=\"https://colab.research.google.com/github/mxnst0820/useful-py-stuff/blob/main/easy_string_character_comparison.ipynb\" target=\"_parent\"><img src=\"https://colab.research.google.com/assets/colab-badge.svg\" alt=\"Open In Colab\"/></a>"
      ]
    },
    {
      "cell_type": "code",
      "execution_count": null,
      "metadata": {
        "id": "2UwfxRKlKhev"
      },
      "outputs": [],
      "source": [
        "user_score = 0\n",
        "simon_pattern = input()\n",
        "user_pattern  = input()\n",
        "\n",
        "for a in range(10):\n",
        "    if user_pattern[a] == simon_pattern[a]:\n",
        "        user_score += 1\n",
        "        \n",
        "    elif user_pattern[a] != simon_pattern[a]:\n",
        "        break\n",
        "\n",
        "print('User score:', user_score)"
      ]
    }
  ]
}