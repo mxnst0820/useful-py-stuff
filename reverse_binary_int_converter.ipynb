{
  "nbformat": 4,
  "nbformat_minor": 0,
  "metadata": {
    "colab": {
      "provenance": [],
      "authorship_tag": "ABX9TyPeOVoBC/0eQXJgKD29BFaI",
      "include_colab_link": true
    },
    "kernelspec": {
      "name": "python3",
      "display_name": "Python 3"
    },
    "language_info": {
      "name": "python"
    }
  },
  "cells": [
    {
      "cell_type": "markdown",
      "metadata": {
        "id": "view-in-github",
        "colab_type": "text"
      },
      "source": [
        "<a href=\"https://colab.research.google.com/github/mxnst0820/useful-py-stuff/blob/main/reverse_binary_int_converter.ipynb\" target=\"_parent\"><img src=\"https://colab.research.google.com/assets/colab-badge.svg\" alt=\"Open In Colab\"/></a>"
      ]
    },
    {
      "cell_type": "code",
      "execution_count": null,
      "metadata": {
        "id": "4ugRmtd8IiKN"
      },
      "outputs": [],
      "source": [
        "x = int(input())\n",
        "\n",
        "while x > 0:\n",
        "    print(x % 2, end='')\n",
        "    x = int(x / 2)\n",
        "    \n",
        "print()"
      ]
    }
  ]
}