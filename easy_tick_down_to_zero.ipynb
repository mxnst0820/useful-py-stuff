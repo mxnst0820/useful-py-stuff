{
  "nbformat": 4,
  "nbformat_minor": 0,
  "metadata": {
    "colab": {
      "provenance": [],
      "authorship_tag": "ABX9TyPA/0oQHS4FV0gi0zC/+1ix",
      "include_colab_link": true
    },
    "kernelspec": {
      "name": "python3",
      "display_name": "Python 3"
    },
    "language_info": {
      "name": "python"
    }
  },
  "cells": [
    {
      "cell_type": "markdown",
      "metadata": {
        "id": "view-in-github",
        "colab_type": "text"
      },
      "source": [
        "<a href=\"https://colab.research.google.com/github/mxnst0820/useful-py-stuff/blob/main/easy_tick_down_to_zero.ipynb\" target=\"_parent\"><img src=\"https://colab.research.google.com/assets/colab-badge.svg\" alt=\"Open In Colab\"/></a>"
      ]
    },
    {
      "cell_type": "code",
      "execution_count": null,
      "metadata": {
        "id": "ZHYZYMTVx08w"
      },
      "outputs": [],
      "source": [
        "num1 = 0\n",
        "user_num = int(input())\n",
        "\n",
        "while user_num > num1:\n",
        "    print('*')\n",
        "    user_num -= 1\n"
      ]
    }
  ]
}