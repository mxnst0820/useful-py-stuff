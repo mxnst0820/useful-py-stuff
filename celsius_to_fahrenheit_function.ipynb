{
  "nbformat": 4,
  "nbformat_minor": 0,
  "metadata": {
    "colab": {
      "provenance": [],
      "authorship_tag": "ABX9TyOGoCPQ7m2jWuptucu+G+UN",
      "include_colab_link": true
    },
    "kernelspec": {
      "name": "python3",
      "display_name": "Python 3"
    },
    "language_info": {
      "name": "python"
    }
  },
  "cells": [
    {
      "cell_type": "markdown",
      "metadata": {
        "id": "view-in-github",
        "colab_type": "text"
      },
      "source": [
        "<a href=\"https://colab.research.google.com/github/mxnst0820/useful-py-stuff/blob/main/celsius_to_fahrenheit_function.ipynb\" target=\"_parent\"><img src=\"https://colab.research.google.com/assets/colab-badge.svg\" alt=\"Open In Colab\"/></a>"
      ]
    },
    {
      "cell_type": "code",
      "execution_count": 3,
      "metadata": {
        "colab": {
          "base_uri": "https://localhost:8080/"
        },
        "id": "1XrleAAj3UNT",
        "outputId": "495c8c62-29b8-4945-9c62-ab7602ac9116"
      },
      "outputs": [
        {
          "output_type": "stream",
          "name": "stdout",
          "text": [
            "Enter temperature in Celsius: 50\n",
            "Fahrenheit: 122.0\n"
          ]
        }
      ],
      "source": [
        "def c_to_f(C):\n",
        "    F = C * (9/5) + 32\n",
        "    return  F\n",
        "\n",
        "temp_c = float(input('Enter temperature in Celsius: '))\n",
        "\n",
        "print('Fahrenheit:' , c_to_f(temp_c))\n",
        " "
      ]
    },
    {
      "cell_type": "code",
      "source": [
        "def c_to_f(C):\n",
        "    F =  C * (9/5) + 32\n",
        "    return  F\n",
        "\n",
        "temp_c = float(input('Enter temperature in Celsius: '))\n",
        "\n",
        "temp_f = c_to_f(temp_c)\n",
        "\n",
        "# FIXME: Print result\n",
        "print('Fahrenheit:' , temp_f)\n",
        " "
      ],
      "metadata": {
        "colab": {
          "base_uri": "https://localhost:8080/"
        },
        "id": "UBSpNvn44TTM",
        "outputId": "d076c1d5-00c4-465d-a4cf-edbce469a369"
      },
      "execution_count": 7,
      "outputs": [
        {
          "output_type": "stream",
          "name": "stdout",
          "text": [
            "Enter temperature in Celsius: 100\n",
            "Fahrenheit: 212.0\n"
          ]
        }
      ]
    }
  ]
}