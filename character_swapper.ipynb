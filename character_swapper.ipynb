{
  "nbformat": 4,
  "nbformat_minor": 0,
  "metadata": {
    "colab": {
      "provenance": [],
      "collapsed_sections": [],
      "authorship_tag": "ABX9TyPWR1t3SLVgzS9eDVG27yZz",
      "include_colab_link": true
    },
    "kernelspec": {
      "name": "python3",
      "display_name": "Python 3"
    },
    "language_info": {
      "name": "python"
    }
  },
  "cells": [
    {
      "cell_type": "markdown",
      "metadata": {
        "id": "view-in-github",
        "colab_type": "text"
      },
      "source": [
        "<a href=\"https://colab.research.google.com/github/mxnst0820/useful-py-stuff/blob/main/character_swapper.ipynb\" target=\"_parent\"><img src=\"https://colab.research.google.com/assets/colab-badge.svg\" alt=\"Open In Colab\"/></a>"
      ]
    },
    {
      "cell_type": "code",
      "execution_count": null,
      "metadata": {
        "id": "TnpYA67HPsXL"
      },
      "outputs": [],
      "source": [
        "word = input()\n",
        "password = word\n",
        "\n",
        "password = password.replace(\"i\", \"1\")\n",
        "password = password.replace(\"a\", \"@\")\n",
        "password = password.replace(\"m\", \"M\")\n",
        "password = password.replace(\"B\", \"8\")\n",
        "password = password.replace(\"s\", \"$\")\n",
        "password = password + '!'\n",
        "\n",
        "print(password)"
      ]
    }
  ]
}