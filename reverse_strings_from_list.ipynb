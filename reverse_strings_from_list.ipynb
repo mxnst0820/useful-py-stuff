{
  "nbformat": 4,
  "nbformat_minor": 0,
  "metadata": {
    "colab": {
      "provenance": [],
      "collapsed_sections": [],
      "authorship_tag": "ABX9TyOt/I96JPCAo7dj7Q7a5QAV",
      "include_colab_link": true
    },
    "kernelspec": {
      "name": "python3",
      "display_name": "Python 3"
    },
    "language_info": {
      "name": "python"
    }
  },
  "cells": [
    {
      "cell_type": "markdown",
      "metadata": {
        "id": "view-in-github",
        "colab_type": "text"
      },
      "source": [
        "<a href=\"https://colab.research.google.com/github/mxnst0820/useful-py-stuff/blob/main/reverse_strings_from_list.ipynb\" target=\"_parent\"><img src=\"https://colab.research.google.com/assets/colab-badge.svg\" alt=\"Open In Colab\"/></a>"
      ]
    },
    {
      "cell_type": "code",
      "execution_count": null,
      "metadata": {
        "id": "EOl7khRi6vea"
      },
      "outputs": [],
      "source": [
        "userInput = ''\n",
        "fullUserInput = []\n",
        "\n",
        "while userInput != 'Done' and userInput != 'done' and userInput != 'd':\n",
        "    userInput = input()\n",
        "    if userInput != 'Done' and userInput != 'done' and userInput != 'd':\n",
        "      fullUserInput.append(userInput)\n",
        "\n",
        "for r in range(len(fullUserInput)):\n",
        "  fullUserInput[r] = ''.join(reversed(fullUserInput[r]))\n",
        "\n",
        "for p in range(len(fullUserInput)):\n",
        "  print(fullUserInput[p])"
      ]
    }
  ]
}