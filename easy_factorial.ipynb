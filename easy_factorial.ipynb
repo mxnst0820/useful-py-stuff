{
  "nbformat": 4,
  "nbformat_minor": 0,
  "metadata": {
    "colab": {
      "provenance": [],
      "authorship_tag": "ABX9TyPqBEcTu4gA7wk1ZrtBG/fc",
      "include_colab_link": true
    },
    "kernelspec": {
      "name": "python3",
      "display_name": "Python 3"
    },
    "language_info": {
      "name": "python"
    }
  },
  "cells": [
    {
      "cell_type": "markdown",
      "metadata": {
        "id": "view-in-github",
        "colab_type": "text"
      },
      "source": [
        "<a href=\"https://colab.research.google.com/github/mxnst0820/useful-py-stuff/blob/main/easy_factorial.ipynb\" target=\"_parent\"><img src=\"https://colab.research.google.com/assets/colab-badge.svg\" alt=\"Open In Colab\"/></a>"
      ]
    },
    {
      "cell_type": "code",
      "execution_count": null,
      "metadata": {
        "id": "n0iHVwwMtvoH"
      },
      "outputs": [],
      "source": [
        "N = int(input())  # Read user-entered number\n",
        "total = N\n",
        "i = N - 1\n",
        "\n",
        "while i >= 1:\n",
        "    total = total * i\n",
        "    i -= 1\n",
        "\n",
        "print(total)\n"
      ]
    }
  ]
}